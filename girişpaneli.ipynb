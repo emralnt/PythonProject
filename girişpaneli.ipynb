{
  "nbformat": 4,
  "nbformat_minor": 0,
  "metadata": {
    "colab": {
      "name": "girişpaneli.ipynb",
      "provenance": [],
      "collapsed_sections": [],
      "authorship_tag": "ABX9TyN5hSOm4kNfk1P8+9Q5HQJi",
      "include_colab_link": true
    },
    "kernelspec": {
      "name": "python3",
      "display_name": "Python 3"
    },
    "language_info": {
      "name": "python"
    }
  },
  "cells": [
    {
      "cell_type": "markdown",
      "metadata": {
        "id": "view-in-github",
        "colab_type": "text"
      },
      "source": [
        "<a href=\"https://colab.research.google.com/github/emralnt/PythonProject/blob/main/giri%C5%9Fpaneli.ipynb\" target=\"_parent\"><img src=\"https://colab.research.google.com/assets/colab-badge.svg\" alt=\"Open In Colab\"/></a>"
      ]
    },
    {
      "cell_type": "code",
      "source": [
        "kullanicilar = {}\n",
        "\n",
        "while True:\n",
        "  menu = '''\n",
        "  1- Giriş Yap\n",
        "  2- Yeni Üye\n",
        "  q- Çıkış Yap\n",
        "  '''\n",
        "  print(menu)\n",
        "  print(\"*\"*50)\n",
        "\n",
        "  secim = input(\"Seçim Yapınız: \")\n",
        "\n",
        "  if secim == \"2\":\n",
        "    yeni_kullanici_adi= input(\"Kullanıcı Adı Giriniz: \")\n",
        "    yeni_sifre= input(\"Şifre Giriniz: \")\n",
        "    kullanicilar[yeni_kullanici_adi] = yeni_sifre\n",
        "    print(\"Kullanıcı Başarıyla Eklendi\")\n",
        "  elif secim == \"1\":\n",
        "    ad = input(\"Ad gir: \")\n",
        "    if ad in kullanicilar.keys():\n",
        "      sifre = input(\"şifre gir: \")\n",
        "      if sifre in kullanicilar.values():\n",
        "        print(\"Hoşgeldin!\")\n",
        "        break\n",
        "      else:\n",
        "        print(\"Şifre Yanlış!\")\n",
        "    else:\n",
        "      print(\"Kullanıcı Bulunamadı!\")\n",
        "  elif secim== \"q\":\n",
        "    print(\"Güle Güle!\")\n",
        "    break\n",
        "\n",
        "  else:\n",
        "    print(\"HatalI Tuşlama!\")\n",
        "    break\n",
        "\n",
        "\n",
        "\n",
        "\n"
      ],
      "metadata": {
        "id": "x3BgwOBgoY0i"
      },
      "execution_count": null,
      "outputs": []
    }
  ]
}